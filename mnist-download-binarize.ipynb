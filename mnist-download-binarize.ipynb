{
 "cells": [
  {
   "cell_type": "code",
   "execution_count": 48,
   "metadata": {},
   "outputs": [],
   "source": [
    "%matplotlib inline\n",
    "\n",
    "import numpy as np\n",
    "from sklearn.datasets import load_digits\n",
    "import matplotlib.pyplot as plt\n",
    "from sklearn.preprocessing import StandardScaler\n",
    "from sklearn.datasets.mldata import fetch_mldata\n",
    "\n",
    "mnist_raw_filepath = \"mnist-raw.txt\""
   ]
  },
  {
   "cell_type": "code",
   "execution_count": 30,
   "metadata": {},
   "outputs": [],
   "source": [
    "# Download Mnist data-set\n",
    "digits = fetch_mldata('mnist-original')\n",
    "X = digits.data\n",
    "y = digits.target\n",
    "data = np.hstack((X, y[:, np.newaxis])).astype(int)\n",
    "np.savetxt(mnist_raw_filepath, data, fmt=\"%i\")"
   ]
  },
  {
   "cell_type": "code",
   "execution_count": 46,
   "metadata": {},
   "outputs": [],
   "source": [
    "# Load 28x28 images\n",
    "\n",
    "data = np.loadtxt(mnist_raw_filepath)\n",
    "X = data[:, :-1]\n",
    "y = data[:, -1]"
   ]
  },
  {
   "cell_type": "code",
   "execution_count": 39,
   "metadata": {},
   "outputs": [],
   "source": [
    "# Load 8x8 images\n",
    "\n",
    "digits = load_digits()\n",
    "X = digits.data\n",
    "y = digits.target"
   ]
  },
  {
   "cell_type": "code",
   "execution_count": 55,
   "metadata": {},
   "outputs": [
    {
     "data": {
      "text/plain": [
       "<Figure size 432x288 with 0 Axes>"
      ]
     },
     "metadata": {},
     "output_type": "display_data"
    },
    {
     "data": {
      "image/png": "[encoded data removed]",
      "text/plain": [
       "<Figure size 432x288 with 4 Axes>"
      ]
     },
     "metadata": {},
     "output_type": "display_data"
    },
    {
     "data": {
      "image/png": "[encoded data removed]",
      "text/plain": [
       "<Figure size 432x288 with 4 Axes>"
      ]
     },
     "metadata": {},
     "output_type": "display_data"
    }
   ],
   "source": [
    "shape = (28, 28)\n",
    "# shape = (8, 8)\n",
    "\n",
    "plt.gray() \n",
    "\n",
    "# Show raw images\n",
    "fig, axes = plt.subplots(2, 2)\n",
    "axes[0, 0].matshow(X[0].reshape(shape))\n",
    "axes[0, 1].matshow(X[1].reshape(shape))\n",
    "axes[1, 0].matshow(X[2].reshape(shape))\n",
    "axes[1, 1].matshow(X[3].reshape(shape))\n",
    "plt.show()\n",
    "\n",
    "# Binarize\n",
    "scaler = StandardScaler()\n",
    "X_binary = scaler.fit_transform(X)\n",
    "X_binary = np.array(X > 0, dtype=int)\n",
    "\n",
    "# Show binarized images\n",
    "fig, axes = plt.subplots(2, 2)\n",
    "axes[0, 0].matshow(X_binary[0].reshape(shape))\n",
    "axes[0, 1].matshow(X_binary[1].reshape(shape))\n",
    "axes[1, 0].matshow(X_binary[2].reshape(shape))\n",
    "axes[1, 1].matshow(X_binary[3].reshape(shape))\n",
    "plt.show()"
   ]
  },
  {
   "cell_type": "code",
   "execution_count": 58,
   "metadata": {},
   "outputs": [],
   "source": [
    "# Save Binarized Image\n",
    "binary_data = np.hstack((X_binary, y[:, np.newaxis]))\n",
    "mnist_binary_filepath = \"mnist-binary.txt\"\n",
    "np.savetxt(mnist_binary_filepath, binary_data, fmt=\"%i\")"
   ]
  }
 ],
 "metadata": {
  "kernelspec": {
   "display_name": "Python 3",
   "language": "python",
   "name": "python3"
  },
  "language_info": {
   "codemirror_mode": {
    "name": "ipython",
    "version": 3
   },
   "file_extension": ".py",
   "mimetype": "text/x-python",
   "name": "python",
   "nbconvert_exporter": "python",
   "pygments_lexer": "ipython3",
   "version": "3.6.5"
  }
 },
 "nbformat": 4,
 "nbformat_minor": 2
}
