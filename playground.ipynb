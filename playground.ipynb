{
 "cells": [
  {
   "cell_type": "code",
   "execution_count": 33,
   "metadata": {},
   "outputs": [],
   "source": [
    "%matplotlib inline\n",
    "\n",
    "import numpy as np\n",
    "from sklearn.datasets import load_digits\n",
    "import matplotlib.pyplot as plt\n",
    "from sklearn.preprocessing import StandardScaler\n",
    "from sklearn.datasets.mldata import fetch_mldata\n",
    "\n",
    "mnist_raw_filepath = \"mnist-raw.txt\""
   ]
  },
  {
   "cell_type": "code",
   "execution_count": 30,
   "metadata": {},
   "outputs": [],
   "source": [
    "# Download Mnist data-set\n",
    "digits = fetch_mldata('mnist-original')\n",
    "X = digits.data\n",
    "y = digits.target\n",
    "data = np.hstack((X, y[:, np.newaxis])).astype(int)\n",
    "np.savetxt(mnist-raw.txt, data, fmt=\"%i\")"
   ]
  },
  {
   "cell_type": "code",
   "execution_count": null,
   "metadata": {},
   "outputs": [],
   "source": [
    "data = np.loadtxt(mnist_raw_filepath)\n",
    "X = data[:, :-1]\n",
    "y = data[:, -1]"
   ]
  },
  {
   "cell_type": "code",
   "execution_count": 39,
   "metadata": {},
   "outputs": [],
   "source": [
    "digits = load_digits()\n",
    "X = digits.data\n",
    "y = digits.target"
   ]
  },
  {
   "cell_type": "code",
   "execution_count": null,
   "metadata": {},
   "outputs": [],
   "source": [
    "shape = (28, 28)\n",
    "# shape = (8, 8)\n",
    "\n",
    "plt.gray() \n",
    "\n",
    "# Show raw images\n",
    "fig, axes = plt.subplots(2, 2)\n",
    "axes[0, 0].matshow(X[0].reshape(shape))\n",
    "axes[0, 1].matshow(X[1].reshape(shape))\n",
    "axes[1, 0].matshow(X[2].reshape(shape))\n",
    "axes[1, 1].matshow(X[3].reshape(shape))\n",
    "plt.show()\n",
    "\n",
    "# Binarize\n",
    "scaler = StandardScaler()\n",
    "X_binary = scaler.fit_transform(X)\n",
    "X_binary = np.array(X > 0, dtype=int)\n",
    "\n",
    "# Show binarized images\n",
    "fig, axes = plt.subplots(2, 2)\n",
    "axes[0, 0].matshow(X_binary[0].reshape(shape))\n",
    "axes[0, 1].matshow(X_binary[1].reshape(shape))\n",
    "axes[1, 0].matshow(X_binary[2].reshape(shape))\n",
    "axes[1, 1].matshow(X_binary[3].reshape(shape))\n",
    "plt.show()"
   ]
  }
 ],
 "metadata": {
  "kernelspec": {
   "display_name": "Python 3",
   "language": "python",
   "name": "python3"
  },
  "language_info": {
   "codemirror_mode": {
    "name": "ipython",
    "version": 3
   },
   "file_extension": ".py",
   "mimetype": "text/x-python",
   "name": "python",
   "nbconvert_exporter": "python",
   "pygments_lexer": "ipython3",
   "version": "3.6.5"
  }
 },
 "nbformat": 4,
 "nbformat_minor": 2
}
