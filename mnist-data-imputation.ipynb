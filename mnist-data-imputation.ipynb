{
 "cells": [
  {
   "cell_type": "code",
   "execution_count": null,
   "metadata": {},
   "outputs": [],
   "source": [
    "import numpy as np\n",
    "import os\n",
    "import matplotlib.pyplot as plt\n",
    "import subprocess\n",
    "\n",
    "def frequent_itemsets(filename, min_support, type='M'):\n",
    "    def split_itemset(str):\n",
    "        itemsets = str.split()\n",
    "        if (len(itemsets) < 2):\n",
    "            return None\n",
    "        \n",
    "        freq = itemsets[-1]\n",
    "        freq = freq[1:-1]\n",
    "    \n",
    "        return int(freq), list(map(int, itemsets[0:-1]))\n",
    "    \n",
    "    p1 = subprocess.Popen([\"./lcm\", '{}f'.format(type), filename, str(min_support), \"-\"], stdout=subprocess.PIPE)\n",
    "    \n",
    "    output = p1.communicate(str.encode(\"utf-8\"))[0]\n",
    "    output = output.decode('utf-8')\n",
    "    itemsets = output.split('\\n')\n",
    "    \n",
    "    itemsets = list(map(split_itemset, itemsets))\n",
    "    itemsets = list(filter(None.__ne__, itemsets))\n",
    "    return itemsets"
   ]
  },
  {
   "cell_type": "code",
   "execution_count": null,
   "metadata": {},
   "outputs": [],
   "source": [
    "binary_filepath = \"mnist-binary.txt\"\n",
    "\n",
    "data = np.loadtxt(binary_filepath)\n",
    "X = data[:, :-1]\n",
    "y = data[:, -1]"
   ]
  },
  {
   "cell_type": "code",
   "execution_count": null,
   "metadata": {},
   "outputs": [],
   "source": [
    "digit_0 = X[y == 0]\n",
    "# digit_0 = digit_0[:100]\n",
    "temp_filepath = \"temp.txt\"\n",
    "os.remove(temp_filepath)\n",
    "with open(temp_filepath, \"a\") as file:\n",
    "    \n",
    "    for i in range(digit_0.shape[0]):\n",
    "        trans = digit_0[i]\n",
    "        item_list = np.nonzero(trans)[0].tolist()\n",
    "        l = \" \".join(str(item) for item in item_list)\n",
    "        file.write(l)\n",
    "        file.write(\"\\n\")\n",
    "\n",
    "res = frequent_itemsets(temp_filepath, 5000)\n",
    "print(\"Maximal itemset count : %s\" % len(res))"
   ]
  },
  {
   "cell_type": "code",
   "execution_count": null,
   "metadata": {},
   "outputs": [],
   "source": [
    "# Calculating disjoint maximal frequent item set\n",
    "disjoint_set_list = []\n",
    "for frequency, s in res:\n",
    "    s_set = set(s)\n",
    "    to_add = True\n",
    "    for _, a_set in disjoint_set_list:\n",
    "        if len(a_set & s_set) > 0:\n",
    "            to_add = False\n",
    "            break\n",
    "    if to_add:\n",
    "        disjoint_set_list.append((frequency, s_set))\n",
    "        \n",
    "print(len(disjoint_set_list))"
   ]
  },
  {
   "cell_type": "code",
   "execution_count": null,
   "metadata": {},
   "outputs": [],
   "source": []
  }
 ],
 "metadata": {
  "kernelspec": {
   "display_name": "Python 3",
   "language": "python",
   "name": "python3"
  },
  "language_info": {
   "codemirror_mode": {
    "name": "ipython",
    "version": 3
   },
   "file_extension": ".py",
   "mimetype": "text/x-python",
   "name": "python",
   "nbconvert_exporter": "python",
   "pygments_lexer": "ipython3",
   "version": "3.6.5"
  }
 },
 "nbformat": 4,
 "nbformat_minor": 2
}
